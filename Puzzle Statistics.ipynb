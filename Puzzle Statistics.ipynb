{
 "cells": [
  {
   "cell_type": "code",
   "execution_count": null,
   "metadata": {},
   "outputs": [],
   "source": [
    "%matplotlib inline \n",
    "\n",
    "import os\n",
    "from cycler import cycler\n",
    "from datetime import datetime\n",
    "import matplotlib.pyplot as plt\n",
    "from matplotlib.lines import Line2D"
   ]
  },
  {
   "cell_type": "code",
   "execution_count": null,
   "metadata": {},
   "outputs": [],
   "source": [
    "basic_plot_params = {\n",
    "   'axes.labelsize': 14,\n",
    "   'font.size': 15,\n",
    "   'legend.fontsize': 11,\n",
    "   'legend.handlelength': 2,\n",
    "   'xtick.labelsize': 12,\n",
    "   'ytick.labelsize': 12,\n",
    "   'text.usetex': False,\n",
    "   'figure.figsize': [20, 20],\n",
    "   'axes.prop_cycle': cycler('color', ['b', 'g', 'r', 'c', 'm', 'y', 'k']) +\n",
    "                       cycler('linestyle', ['-', '--', ':', '-.', '-', '--', ':'])\n",
    "}"
   ]
  },
  {
   "cell_type": "code",
   "execution_count": null,
   "metadata": {},
   "outputs": [],
   "source": [
    "def get_daemon_stats_from_file(filename):\n",
    "    with open(filename, 'r') as file:\n",
    "        header = file.readline().split()\n",
    "        stats_lists = [[cat] for cat in header]\n",
    "        for line in file:\n",
    "            for i,stat in enumerate(line.strip().split()):\n",
    "                if i is 0: stat = datetime.fromtimestamp(float(stat)).strftime('%H:%M:%S.%f')[:-4]\n",
    "\n",
    "                elif i is 1: stat = float(stat)\n",
    "                else: stat = int(stat)\n",
    "                stats_lists[i].append(stat)\n",
    "                \n",
    "        file_stats = {list[0]: list[1:] for list in stats_lists}\n",
    "        return file_stats"
   ]
  },
  {
   "cell_type": "code",
   "execution_count": null,
   "metadata": {},
   "outputs": [],
   "source": [
    "def hide_nth_xtick(ax, n):\n",
    "    [l.set_visible(False) for (i,l) in enumerate(ax.xaxis.get_ticklabels()) if i % n != 0]"
   ]
  },
  {
   "cell_type": "code",
   "execution_count": null,
   "metadata": {},
   "outputs": [],
   "source": [
    "def plot_daemon_stats(stats, node_names):\n",
    "    plt.rcParams.update(basic_plot_params)\n",
    "    \n",
    "    fig = plt.figure()\n",
    "\n",
    "    cpu = fig.add_subplot(511)\n",
    "    mem = fig.add_subplot(512)\n",
    "    failed = fig.add_subplot(513)\n",
    "    received = fig.add_subplot(514)\n",
    "    sent = fig.add_subplot(515)\n",
    "    \n",
    "    for node in node_names:\n",
    "        cur_node = stats.get(node)\n",
    "        cpu.set_ylabel('CPU usage')\n",
    "        cpu.set_title('Percentage of CPU usage')\n",
    "\n",
    "        mem.set_ylabel('Memory (in bytes)')\n",
    "        mem.set_title('Active Memory usage')\n",
    "\n",
    "        failed.set_ylabel('Puzzles')\n",
    "        failed.set_title('Number of Puzzles Failed')\n",
    "\n",
    "        received.set_ylabel('Puzzles')\n",
    "        received.set_title('Number of Puzzles Received')\n",
    "\n",
    "        sent.set_ylabel('Puzzles')\n",
    "        sent.set_title('Number of Puzzles Sent')\n",
    "\n",
    "        cpu.plot(cur_node['Timestamp'], cur_node['cpu_percent'],label=node,marker='s')\n",
    "        mem.plot(cur_node['Timestamp'], cur_node['active_memory'],label=node,marker='s')\n",
    "        failed.plot(cur_node['Timestamp'], cur_node['ChallengeFailed'],label=node,marker='s')\n",
    "        received.plot(cur_node['Timestamp'], cur_node['ChallengeRecvd'],label=node,marker='s')\n",
    "        sent.plot(cur_node['Timestamp'], cur_node['ChallengeSent'],label=node, marker='s')\n",
    "\n",
    "    for plot in [cpu, mem, failed, received, sent]:\n",
    "        plot.set_xlabel('Time')\n",
    "        hide_nth_xtick(plot, 6)\n",
    "        legend = plot.legend(loc = 9, ncol=10, bbox_to_anchor=(.5, -0.2), borderaxespad=1.0)\n",
    "    \n",
    "    fig.tight_layout(pad=1, h_pad=1.5)\n",
    "    plt.show()"
   ]
  },
  {
   "cell_type": "code",
   "execution_count": null,
   "metadata": {},
   "outputs": [],
   "source": [
    "daemon_stats = {}\n",
    "for filename in os.listdir('argusout'):\n",
    "    daemon_stats[filename.split('.txt')[0]] = get_daemon_stats_from_file('argusout/' + filename)\n",
    "\n",
    "plot_daemon_stats(daemon_stats, [file.split('.txt')[0] for file in os.listdir('argusout')])"
   ]
  },
  {
   "cell_type": "code",
   "execution_count": null,
   "metadata": {},
   "outputs": [],
   "source": [
    "def get_module_stats_from_file(filename):\n",
    "    with open(filename, 'r') as file:\n",
    "        stats_list = []\n",
    "        for line in file:\n",
    "            stats = line.strip().split(';')\n",
    "            stats[0] = datetime.fromtimestamp(float(stats[0])).strftime('%H:%M:%S.%f')[:-4]\n",
    "            stats[1:] = [int(prop) for prop in stats[1:]]\n",
    "            stats_list.append(tuple(stats))\n",
    "            \n",
    "        return stats_list"
   ]
  },
  {
   "cell_type": "code",
   "execution_count": null,
   "metadata": {},
   "outputs": [],
   "source": [
    "def plot_module_stats(stats, file_names):\n",
    "    plt.rcParams.update(basic_plot_params)\n",
    "    \n",
    "    fig = plt.figure()\n",
    "\n",
    "    listen_q = fig.add_subplot(211)\n",
    "    accept_q = fig.add_subplot(212)\n",
    "    for out_file in stats:\n",
    "        queue = stats.get(out_file)\n",
    "        accept_q.set_ylabel('Queue Size (in ?????)')\n",
    "        listen_q.set_title('Listen Queue Size')\n",
    "\n",
    "        accept_q.set_ylabel('Queue Size (in ?????)')\n",
    "        accept_q.set_title('Accept Queue Size')\n",
    "\n",
    "        listen_q.plot([q[0] for q in queue], [q[1] for q in queue], label=out_file, marker='s')\n",
    "        accept_q.plot([q[0] for q in queue], [q[2] for q in queue], label=out_file, marker='s')\n",
    "        break\n",
    "\n",
    "    for plot in [listen_q, accept_q]:\n",
    "        plot.set_xlabel('Time')\n",
    "        #hide_nth_xtick(plot, 6)\n",
    "        legend = plot.legend(loc = 9, ncol=10, bbox_to_anchor=(.5, -0.08), borderaxespad=1.0)\n",
    "    \n",
    "    fig.tight_layout(pad=1, h_pad=3.5)\n",
    "    plt.show()"
   ]
  },
  {
   "cell_type": "code",
   "execution_count": null,
   "metadata": {},
   "outputs": [],
   "source": [
    "module_stats = {}\n",
    "for filename in os.listdir('moduleout'):\n",
    "    module_stats[filename.split('.txt')[0]] = get_module_stats_from_file('moduleout/' + filename)\n",
    "print(1)\n",
    "plot_module_stats(module_stats, [file.split('.txt')[0] for file in os.listdir('moduleout')])"
   ]
  },
  {
   "cell_type": "code",
   "execution_count": null,
   "metadata": {},
   "outputs": [],
   "source": []
  },
  {
   "cell_type": "code",
   "execution_count": null,
   "metadata": {},
   "outputs": [],
   "source": []
  },
  {
   "cell_type": "code",
   "execution_count": null,
   "metadata": {},
   "outputs": [],
   "source": []
  }
 ],
 "metadata": {
  "kernelspec": {
   "display_name": "Python 2",
   "language": "python",
   "name": "python2"
  },
  "language_info": {
   "codemirror_mode": {
    "name": "ipython",
    "version": 2
   },
   "file_extension": ".py",
   "mimetype": "text/x-python",
   "name": "python",
   "nbconvert_exporter": "python",
   "pygments_lexer": "ipython2",
   "version": "2.7.14"
  }
 },
 "nbformat": 4,
 "nbformat_minor": 2
}
